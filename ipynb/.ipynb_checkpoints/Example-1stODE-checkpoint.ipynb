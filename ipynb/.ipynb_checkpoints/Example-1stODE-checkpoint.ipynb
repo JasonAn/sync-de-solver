{
 "cells": [
  {
   "cell_type": "markdown",
   "metadata": {},
   "source": [
    "## Example: First Order ODE"
   ]
  },
  {
   "cell_type": "markdown",
   "metadata": {},
   "source": []
  },
  {
   "cell_type": "code",
   "execution_count": 2,
   "metadata": {
    "collapsed": false
   },
   "outputs": [
    {
     "name": "stdout",
     "output_type": "stream",
     "text": [
      "The snakeviz extension is already loaded. To reload it, use:\n",
      "  %reload_ext snakeviz\n"
     ]
    }
   ],
   "source": [
    "# This line configures matplotlib to show figures embedded in the notebook, \n",
    "# instead of opening a new window for each figure. More about that later. \n",
    "# If you are using an old version of IPython, try using '%pylab inline' instead.\n",
    "%matplotlib inline\n",
    "\n",
    "## snakeviz is a very useful tool to visualizaion cprofile\n",
    "%load_ext snakeviz\n",
    "\n",
    "# numpy scipy and plot\n",
    "import numpy as np\n",
    "from scipy.optimize import minimize\n",
    "from scipy.optimize import rosen, differential_evolution\n",
    "import matplotlib.pyplot as plt\n",
    "import scipy\n",
    "\n",
    "from matplotlib.lines import Line2D\n",
    "\n",
    "\n",
    "## To time the functions\n",
    "import timeit\n",
    "\n",
    "## The following is need for plotly\n",
    "\n",
    "#import pandas as pd\n",
    "\n",
    "#import plotly.plotly as py\n",
    "#from plotly.graph_objs import *\n",
    "#import plotly.tools as tls"
   ]
  },
  {
   "cell_type": "markdown",
   "metadata": {
    "collapsed": true
   },
   "source": [
    "Solving first order differential equation\n",
    "\n",
    "$$\\frac{dy(t)}{dt}=-y(t)$$.\n",
    "\n",
    "Here a parameterization like the fourier mode is used.\n",
    "\n",
    "$$ y = \\sum_m^{N} ( A_m \\sin(mx) + B_m \\cos(mx) ). $$\n",
    "\n",
    "The first order derivative is\n",
    "\n",
    "$$ \\frac{dy}{dt} = \\sum_m^{N} ( A_m m \\cos(mx) - B_m m \\sin(mx) ) .$$\n",
    "\n",
    "The most important question after we have chosen a parameterization method is how many parameters is needed. We'll find out."
   ]
  },
  {
   "cell_type": "code",
   "execution_count": null,
   "metadata": {
    "collapsed": true
   },
   "outputs": [],
   "source": []
  }
 ],
 "metadata": {
  "kernelspec": {
   "display_name": "Python 2",
   "language": "python",
   "name": "python2"
  },
  "language_info": {
   "codemirror_mode": {
    "name": "ipython",
    "version": 2
   },
   "file_extension": ".py",
   "mimetype": "text/x-python",
   "name": "python",
   "nbconvert_exporter": "python",
   "pygments_lexer": "ipython2",
   "version": "2.7.6"
  }
 },
 "nbformat": 4,
 "nbformat_minor": 0
}
