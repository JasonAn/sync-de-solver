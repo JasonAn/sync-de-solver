{
 "cells": [
  {
   "cell_type": "markdown",
   "metadata": {},
   "source": [
    "# A Physicist's Crash Course on Artificial Neural Network"
   ]
  },
  {
   "cell_type": "code",
   "execution_count": 48,
   "metadata": {
    "collapsed": true
   },
   "outputs": [],
   "source": [
    "# This cell is to prepare the notebook. Skip to the next section\n",
    "\n",
    "# This line configures matplotlib to show figures embedded in the notebook, \n",
    "# instead of opening a new window for each figure. More about that later. \n",
    "# If you are using an old version of IPython, try using '%pylab inline' instead.\n",
    "%matplotlib inline\n",
    "import matplotlib.pyplot as plt\n",
    "import numpy as np\n",
    "\n",
    "from scipy.optimize import minimize\n",
    "from scipy.special import expit\n",
    "\n",
    "import timeit"
   ]
  },
  {
   "cell_type": "markdown",
   "metadata": {},
   "source": [
    "## The Crash Course "
   ]
  },
  {
   "cell_type": "markdown",
   "metadata": {},
   "source": [
    "This the theory presented in a introductory manor."
   ]
  },
  {
   "cell_type": "markdown",
   "metadata": {},
   "source": [
    "### What is a Neuron"
   ]
  },
  {
   "cell_type": "markdown",
   "metadata": {},
   "source": [
    "What a neuron does is to response when a stimulation is given. This response could be strong or weak or even null. If I would draw a figure, of this behavior, it looks like this."
   ]
  },
  {
   "cell_type": "markdown",
   "metadata": {},
   "source": [
    "<img src=\"assets/images/neuronResponse.png\" width=100%>"
   ]
  },
  {
   "cell_type": "markdown",
   "metadata": {},
   "source": [
    "However, each neuron is different from other neurons.\n",
    "\n",
    "<img src=\"assets/images/transformActivation.png\" width=100%>"
   ]
  },
  {
   "cell_type": "markdown",
   "metadata": {},
   "source": [
    "### Artificial Neural Network"
   ]
  },
  {
   "cell_type": "markdown",
   "metadata": {},
   "source": [
    "A simple network is a collection of neurons that response to stimulations, which could be the responses of other neurons.\n",
    "\n",
    "<img src=\"assets/images/neuralNetworkSimple.png\" width=100%>"
   ]
  },
  {
   "cell_type": "markdown",
   "metadata": {
    "collapsed": true
   },
   "source": [
    "A given input signal is spreaded onto three different neurons. The neurons respond to this signal sperately then summed together with different weights. In the language of math, given input $x$, output $y(x)$ is\n",
    "\n",
    "$$ y(x) = \\sum_{k=1}^{3} v_k * \\text{activation}( w_k * x + u_k )  $$\n",
    "\n",
    "where $\\text{activation}$ is the activation function, i.e., the response behavior of the neuron. This is a single layer structure."
   ]
  },
  {
   "cell_type": "markdown",
   "metadata": {
    "collapsed": true
   },
   "source": [
    "A lot of different ways could be used to extend this network. \n",
    "\n",
    "\n",
    "* Increase the number of neurons on one layer.\n",
    "* One can extend the number of layers.\n",
    "\n",
    "<img src=\"assets/images/multilayer.png\" width=100%>\n",
    "\n",
    "* We could also include interactions between the neurons.\n",
    "* Even memory can be simulated.\n",
    "\n"
   ]
  },
  {
   "cell_type": "markdown",
   "metadata": {},
   "source": [
    "### How it works"
   ]
  },
  {
   "cell_type": "markdown",
   "metadata": {},
   "source": [
    "Here is an exmaple of how the network works.\n",
    "\n",
    "Suppose we have only two neurons in the network.\n",
    "\n",
    "<img src=\"assets/images/2neuronNet.png\" width=100%>\n",
    "\n",
    "Seen from this example, we can expect neural network to be good at classification. With one neuron, we can do a classification too. For example we can choose proper parameters so that we have a input temperature and a output that tells us which is high temperature which is low temperature."
   ]
  },
  {
   "cell_type": "markdown",
   "metadata": {},
   "source": [
    "<img src=\"assets/images/2neuronClassification.png\" width=100%>"
   ]
  },
  {
   "cell_type": "markdown",
   "metadata": {},
   "source": [
    "That reminds me of Fourier Analysis. And there is a connection. The activation functions here, which is for a general purpose, are chosen to be universal approximators. These activations can be used to approximate all smooth functions well using a finite number of neurons. Fourier analysis, on the other hand requires infinite to be exact. However in some cases we don't need infinite Fourier terms as we only need a good approximation."
   ]
  },
  {
   "cell_type": "markdown",
   "metadata": {},
   "source": [
    "### Training"
   ]
  },
  {
   "cell_type": "markdown",
   "metadata": {},
   "source": [
    "We have got a lot of paramters with the set up of the network. The parameters are the degree of freedom we have. **The question is how to get the right paramters.**"
   ]
  },
  {
   "cell_type": "markdown",
   "metadata": {},
   "source": [
    "The Network NEEDS TRAINING. Just like human learning, the neural network have to be trained using prepared data. One example would be\n",
    "\n",
    "|  input | 0 |   1  |   2  |   3   |   4   |    5   |    6   |    7    |    8   |    9    |\n",
    "|:------:|:-:|:----:|:----:|:-----:|:-----:|:------:|:------:|:-------:|:------:|:-------:|\n",
    "| output | 1 | 0.37 | 0.14 | 0.050 | 0.018 | 0.0067 | 0.0025 | 0.00091 | 0.0004 | 0.00012 |\n",
    "\n",
    "This set of data, to have some insight, a human would put them on a plot."
   ]
  },
  {
   "cell_type": "code",
   "execution_count": 22,
   "metadata": {
    "collapsed": false,
    "scrolled": true
   },
   "outputs": [
    {
     "data": {
      "image/png": "[encoded data removed]",
      "text/plain": [
       "<matplotlib.figure.Figure at 0x108961550>"
      ]
     },
     "metadata": {},
     "output_type": "display_data"
    }
   ],
   "source": [
    "thTrainingData1 = np.array([[0,1,2,3,4,5,6,7,8,9],[1,0.37,0.14,0.050,0.018,0.0067,0.0025,0.00091,0.0004,0.00012]])\n",
    "plt.figure(figsize=(10,6.18))\n",
    "plt.plot(thTrainingData1[0],thTrainingData1[1],'bs')\n",
    "plt.title(\"We have data\")\n",
    "plt.show()"
   ]
  },
  {
   "cell_type": "markdown",
   "metadata": {},
   "source": [
    "A well trained human immediately recognize the patern, which is somewhat close to a exponential decay behavior. However, we wouldn't do any numerical calculation of expontential functions. We just see it because we have seen a lot.\n",
    "\n",
    "We also expect that if we have one more data point from the same mechanism to be placed on the graph, it should apear near a line of exponential decay."
   ]
  },
  {
   "cell_type": "code",
   "execution_count": 25,
   "metadata": {
    "collapsed": false
   },
   "outputs": [
    {
     "data": {
      "image/png": "[encoded data removed]",
      "text/plain": [
       "<matplotlib.figure.Figure at 0x1091eaad0>"
      ]
     },
     "metadata": {},
     "output_type": "display_data"
    }
   ],
   "source": [
    "plt.figure(figsize=(10,6.18))\n",
    "plt.plot(thTrainingData1[0],thTrainingData1[1],'bs',label='Old Data')\n",
    "plt.plot(np.linspace(0,9,100),np.exp(-np.linspace(0,9,100)),'m',label='Exponential')\n",
    "plt.plot(np.array([1.5]),np.array([0.21]),'ro',label='New Data')\n",
    "plt.title(\"We have got new data\")\n",
    "plt.legend()\n",
    "plt.show()"
   ]
  },
  {
   "cell_type": "markdown",
   "metadata": {},
   "source": [
    "OK. A red data point appears on the graph. It is close to the line of $f(x)=e^{-x}$. Not exactly on the line but close."
   ]
  },
  {
   "cell_type": "markdown",
   "metadata": {},
   "source": [
    "How do we teach a machine to do that? Train it using these 10 data point we have now.\n",
    "\n",
    "We feed in one input, $0$, the net will give us a result. However, the result is not $1$ in general. Then we change the parameters until we have the output as $1$. We feed in another input $1$, and change the parameters until we have $0.37$. Hence the final outcome of this training process is that the machine gives us the right result given input in the data we have know.\n",
    "\n",
    "After the training, we get a set of parameters, which should be preserved. This is the structure we need. The machine has learned everything.\n",
    "\n",
    "Now keep the parameters fixed. Feed in a number $1.5$, the result from the net should be close to $2.2$. Now the net also learn the behavior of the data, nonetheless without calculating any exponential functions. \n",
    "\n",
    "This is amazing. The machine doesn't have any idea of exponential but it can know the trend."
   ]
  },
  {
   "cell_type": "markdown",
   "metadata": {},
   "source": [
    "### Problems"
   ]
  },
  {
   "cell_type": "markdown",
   "metadata": {},
   "source": [
    "Just as a human would do, the net can make mistakes. One of them is over-training. If we don't have enough degree of freedom and given to many data points, the network could be over-trained. It is going to be stubborn and resist to give the right trend."
   ]
  },
  {
   "cell_type": "markdown",
   "metadata": {},
   "source": [
    "## Code Practice"
   ]
  },
  {
   "cell_type": "markdown",
   "metadata": {},
   "source": [
    "### Solving A Simple Differential Equation"
   ]
  },
  {
   "cell_type": "markdown",
   "metadata": {},
   "source": [
    "The problem to solve is the differential equation $$\\frac{d}{dt}y(t)= - y(t).$$ Using the network, this is $$y_i= 1+t_i v_k f(t_i w_k+u_k).$$"
   ]
  },
  {
   "cell_type": "markdown",
   "metadata": {},
   "source": [
    "The procedures are\n",
    "\n",
    "**Deal with the function first.**\n",
    "   \n",
    "1. The cost is $$I=\\sum_i\\left( \\frac{dy_i}{dt}+y_i \\right)^2.$$ Our purpose is to minimize this cost.\n",
    "   \n",
    "2. To calculate the differential of y, we can write down the explicit expression for it. $$\\frac{dy}{dt} = v_k f(t w_k+u_k) + t v_k f(tw_k+u_k) (1-f(tw_k+u_k))w_k,$$ where the function f is defined as a trigf().\n",
    "\n",
    "3. So the cost becomse $$I = \\sum_i \\left(  v_k f(t w_k+u_k) + t v_k f(tw_k+u_k) (1-f(tw_k+u_k)) w_k + y \\right)^2.$$"
   ]
  },
  {
   "cell_type": "code",
   "execution_count": 27,
   "metadata": {
    "collapsed": false
   },
   "outputs": [],
   "source": [
    "def cost(v,w,u,t):\n",
    "    v = np.array(v)   # Don't know why but np.asarray(v) doesn't work here.\n",
    "    w = np.array(w)\n",
    "    u = np.array(u)\n",
    "    \n",
    "    fvec = np.array(trigf(t*w + u) )  # This is a vector!!!\n",
    "    yt = 1 + np.sum ( t * v * fvec  )  # For a given t, this calculates the value of y(t), given the parameters, v, w, u.\n",
    "    \n",
    "    return  ( np.sum (v*fvec + t * v* fvec * ( 1 -  fvec  ) * w ) + yt )   ** 2\n",
    "    \n",
    "    # return np.sum(np.array( v*np.array( trigf( np.array( t*w ) + u ) ) )  +  np.array( t*np.array( v*np.array( trigf(np.array( t*w ) + u)) )  )  * ( 1 - np.array( trigf( np.array( t*w )+u) ) ) * w + ( 1 + np.array( t*np.array( v*np.array( trigf( np.array(t*w)+u ) ) ) ) ) ) # trigf() should return an array with the same length of the input."
   ]
  },
  {
   "cell_type": "markdown",
   "metadata": {},
   "source": [
    "**Caution: a number times an array is not returned as array but instead as list. and list + list doesn't conserved the length of the list!**"
   ]
  },
  {
   "cell_type": "markdown",
   "metadata": {},
   "source": [
    "Define the trigf() next, usually we use $$trigf(x)=\\frac{1}{1+\\exp(-x)}$$."
   ]
  },
  {
   "cell_type": "code",
   "execution_count": 28,
   "metadata": {
    "collapsed": false
   },
   "outputs": [],
   "source": [
    "def trigf(x):\n",
    "    #return 1/(1+np.exp(-x)) #\n",
    "    return expit(x)"
   ]
  },
  {
   "cell_type": "markdown",
   "metadata": {},
   "source": [
    "Test cost function:"
   ]
  },
  {
   "cell_type": "code",
   "execution_count": 29,
   "metadata": {
    "collapsed": false
   },
   "outputs": [
    {
     "data": {
      "text/plain": [
       "43.556874613889974"
      ]
     },
     "execution_count": 29,
     "metadata": {},
     "output_type": "execute_result"
    }
   ],
   "source": [
    "test11 = np.ones(30)\n",
    "cost(np.array([1,1,1]),[1,1,1],[1,1,1],1)"
   ]
  },
  {
   "cell_type": "markdown",
   "metadata": {},
   "source": [
    "Next step is to optimize this cost. To do this we need the derivitive. But anyway let's try a simple minimization first."
   ]
  },
  {
   "cell_type": "code",
   "execution_count": 30,
   "metadata": {
    "collapsed": false
   },
   "outputs": [],
   "source": [
    "def costTotal(v,w,u,t):\n",
    "    t = np.array(t)\n",
    "    costt = 0\n",
    "    for temp in t:\n",
    "        costt = costt + cost(v,w,u,temp)\n",
    "        \n",
    "    return costt\n",
    "\n"
   ]
  },
  {
   "cell_type": "markdown",
   "metadata": {},
   "source": [
    "Test total cost"
   ]
  },
  {
   "cell_type": "code",
   "execution_count": 31,
   "metadata": {
    "collapsed": false
   },
   "outputs": [
    {
     "name": "stdout",
     "output_type": "stream",
     "text": [
      "516.579515858\n",
      "455.812570558\n"
     ]
    }
   ],
   "source": [
    "test11 = np.ones(30)\n",
    "tlintest = np.linspace(0,1,2)\n",
    "print costTotal(np.ones(10),np.ones(10),2*np.ones(10),tlintest)\n",
    "print costTotal(np.ones(10),np.ones(10),np.ones(10),tlintest)"
   ]
  },
  {
   "cell_type": "markdown",
   "metadata": {},
   "source": [
    "Suppose the parameters are five dimensional and we have 10 data points."
   ]
  },
  {
   "cell_type": "code",
   "execution_count": 32,
   "metadata": {
    "collapsed": false
   },
   "outputs": [
    {
     "name": "stdout",
     "output_type": "stream",
     "text": [
      "[ 0.   0.5  1.   1.5  2.   2.5  3.   3.5  4.   4.5  5. ]\n"
     ]
    }
   ],
   "source": [
    "tlin = np.linspace(0,5,11)\n",
    "print tlin"
   ]
  },
  {
   "cell_type": "markdown",
   "metadata": {},
   "source": [
    "Define a list divier that splits an array into three arrays."
   ]
  },
  {
   "cell_type": "code",
   "execution_count": 33,
   "metadata": {
    "collapsed": false
   },
   "outputs": [
    {
     "data": {
      "text/plain": [
       "array([ 0.,  0.,  0.,  0.,  0.,  0.,  0.,  0.,  0.,  0.,  0.,  0.,  0.,\n",
       "        0.,  0.,  0.,  0.,  0.,  0.,  0.,  0.,  0.,  0.,  0.,  0.,  0.,\n",
       "        0.,  0.,  0.,  0.])"
      ]
     },
     "execution_count": 33,
     "metadata": {},
     "output_type": "execute_result"
    }
   ],
   "source": [
    "## No need to define such a function! Use np.split(x,3) instead.\n",
    "np.zeros(30)"
   ]
  },
  {
   "cell_type": "code",
   "execution_count": 34,
   "metadata": {
    "collapsed": false,
    "slideshow": {
     "slide_type": "slide"
    }
   },
   "outputs": [
    {
     "name": "stdout",
     "output_type": "stream",
     "text": [
      "3.18958115578\n"
     ]
    }
   ],
   "source": [
    "# This is only an example of 2dimensional neural network.\n",
    "costTotalF = lambda x: costTotal(np.split(x,3)[0],np.split(x,3)[1],np.split(x,3)[2],tlin)\n",
    "\n",
    "initGuess = np.zeros(30)\n",
    "# initGuess = np.random.rand(1,30)+2\n",
    "start1 = timeit.default_timer()\n",
    "minim=minimize(costTotalF,initGuess,method=\"Nelder-Mead\")\n",
    "# minimize(costTotalF,initGuess,method=\"L-BFGS-B\")\n",
    "# minimize(costTotalF,initGuess,method=\"TNC\")\n",
    "stop1 = timeit.default_timer()\n",
    "\n",
    "print stop1 - start1"
   ]
  },
  {
   "cell_type": "markdown",
   "metadata": {},
   "source": [
    "It shows that the minimization depends greatly on the initial guess. It is not true for a simple scenario with gradient descent however it could be the case if the landscape is too complicated."
   ]
  },
  {
   "cell_type": "markdown",
   "metadata": {},
   "source": [
    "### Test Results"
   ]
  },
  {
   "cell_type": "markdown",
   "metadata": {},
   "source": [
    "Plot!"
   ]
  },
  {
   "cell_type": "code",
   "execution_count": 36,
   "metadata": {
    "collapsed": false
   },
   "outputs": [
    {
     "name": "stdout",
     "output_type": "stream",
     "text": [
      "\n"
     ]
    }
   ],
   "source": [
    "def functionYNNSt(v,w,u,t): # t is a single scalar value\n",
    "    \n",
    "    t = np.array(t)\n",
    "    \n",
    "    return 1 +  np.sum(t * v * trigf( t*w +u ) )\n",
    "\n",
    "\n",
    "\n",
    "def functionYNN(v,w,u,t):\n",
    "\n",
    "    t = np.array(t)\n",
    "    \n",
    "    func = np.asarray([])\n",
    "    \n",
    "    for temp in t:\n",
    "        func = np.append(func, functionYNNSt(v,w,u,temp) )\n",
    "        \n",
    "    return np.array(func)\n",
    "\n",
    "def functionY(t):\n",
    "\n",
    "    return np.exp(-t)"
   ]
  },
  {
   "cell_type": "code",
   "execution_count": 43,
   "metadata": {
    "collapsed": false,
    "scrolled": false
   },
   "outputs": [
    {
     "data": {
      "image/png": "[encoded data removed]",
      "text/plain": [
       "<matplotlib.figure.Figure at 0x10a6b9750>"
      ]
     },
     "metadata": {},
     "output_type": "display_data"
    }
   ],
   "source": [
    "xresult=minim.x\n",
    "\n",
    "# This is the output of neural network\n",
    "temp14 = np.array([])\n",
    "for i in np.linspace(0,5,110):\n",
    "    temp14 = np.append(temp14,functionYNN(np.split(xresult,3)[0],np.split(xresult,3)[1],np.split(xresult,3)[2],np.array([i]))[0])\n",
    "\n",
    "testTLin = np.linspace(0,5,110)\n",
    "plt.figure(figsize=(10,6.18))\n",
    "plt.plot(testTLin,functionY(testTLin),'bs',label='Exact Solution') # This is the exact solution to the differential equation\n",
    "plt.plot(testTLin,temp14,'r-',label='ANN Result')\n",
    "plt.title(\"Test the training\")\n",
    "plt.legend()\n",
    "plt.show()\n"
   ]
  },
  {
   "cell_type": "code",
   "execution_count": null,
   "metadata": {
    "collapsed": true
   },
   "outputs": [],
   "source": []
  }
 ],
 "metadata": {
  "kernelspec": {
   "display_name": "Python 2",
   "language": "python",
   "name": "python2"
  },
  "language_info": {
   "codemirror_mode": {
    "name": "ipython",
    "version": 2
   },
   "file_extension": ".py",
   "mimetype": "text/x-python",
   "name": "python",
   "nbconvert_exporter": "python",
   "pygments_lexer": "ipython2",
   "version": "2.7.6"
  }
 },
 "nbformat": 4,
 "nbformat_minor": 0
}
